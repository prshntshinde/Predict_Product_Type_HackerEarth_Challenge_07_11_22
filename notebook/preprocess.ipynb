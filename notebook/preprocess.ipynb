{
 "cells": [
  {
   "cell_type": "code",
   "execution_count": 1,
   "metadata": {},
   "outputs": [],
   "source": [
    "import pandas as pd\n",
    "import matplotlib as plt\n",
    "import numpy as np\n",
    "import seaborn as sns\n",
    "from bs4 import BeautifulSoup\n"
   ]
  },
  {
   "cell_type": "code",
   "execution_count": 2,
   "metadata": {},
   "outputs": [
    {
     "data": {
      "text/html": [
       "<div>\n",
       "<style scoped>\n",
       "    .dataframe tbody tr th:only-of-type {\n",
       "        vertical-align: middle;\n",
       "    }\n",
       "\n",
       "    .dataframe tbody tr th {\n",
       "        vertical-align: top;\n",
       "    }\n",
       "\n",
       "    .dataframe thead th {\n",
       "        text-align: right;\n",
       "    }\n",
       "</style>\n",
       "<table border=\"1\" class=\"dataframe\">\n",
       "  <thead>\n",
       "    <tr style=\"text-align: right;\">\n",
       "      <th></th>\n",
       "      <th>File_Name</th>\n",
       "      <th>Product</th>\n",
       "    </tr>\n",
       "  </thead>\n",
       "  <tbody>\n",
       "    <tr>\n",
       "      <th>0</th>\n",
       "      <td>PROJ0x130f.html</td>\n",
       "      <td>AI</td>\n",
       "    </tr>\n",
       "    <tr>\n",
       "      <th>1</th>\n",
       "      <td>PROJ0x61c1.html</td>\n",
       "      <td>Truck</td>\n",
       "    </tr>\n",
       "    <tr>\n",
       "      <th>2</th>\n",
       "      <td>PROJ0x520d.html</td>\n",
       "      <td>Truck</td>\n",
       "    </tr>\n",
       "    <tr>\n",
       "      <th>3</th>\n",
       "      <td>PROJ0x1d31.html</td>\n",
       "      <td>Medical devices</td>\n",
       "    </tr>\n",
       "    <tr>\n",
       "      <th>4</th>\n",
       "      <td>PROJ0x77de.html</td>\n",
       "      <td>antivirus-security</td>\n",
       "    </tr>\n",
       "  </tbody>\n",
       "</table>\n",
       "</div>"
      ],
      "text/plain": [
       "         File_Name             Product\n",
       "0  PROJ0x130f.html                  AI\n",
       "1  PROJ0x61c1.html               Truck\n",
       "2  PROJ0x520d.html               Truck\n",
       "3  PROJ0x1d31.html     Medical devices\n",
       "4  PROJ0x77de.html  antivirus-security"
      ]
     },
     "execution_count": 2,
     "metadata": {},
     "output_type": "execute_result"
    }
   ],
   "source": [
    "# Load dataset\n",
    "train_df = pd.read_csv(\n",
    "    \"/PersonalProjects/Predict_Product_Type_HackerEarth_Challenge_07_11_22/data/train.csv\")\n",
    "train_df.head()\n"
   ]
  },
  {
   "cell_type": "code",
   "execution_count": 5,
   "metadata": {},
   "outputs": [
    {
     "name": "stdout",
     "output_type": "stream",
     "text": [
      "<class 'pandas.core.frame.DataFrame'>\n",
      "RangeIndex: 13452 entries, 0 to 13451\n",
      "Data columns (total 2 columns):\n",
      " #   Column     Non-Null Count  Dtype \n",
      "---  ------     --------------  ----- \n",
      " 0   File_Name  13452 non-null  object\n",
      " 1   Product    13452 non-null  object\n",
      "dtypes: object(2)\n",
      "memory usage: 210.3+ KB\n"
     ]
    }
   ],
   "source": [
    "train_df.info()\n"
   ]
  },
  {
   "cell_type": "code",
   "execution_count": 6,
   "metadata": {},
   "outputs": [
    {
     "data": {
      "text/html": [
       "<div>\n",
       "<style scoped>\n",
       "    .dataframe tbody tr th:only-of-type {\n",
       "        vertical-align: middle;\n",
       "    }\n",
       "\n",
       "    .dataframe tbody tr th {\n",
       "        vertical-align: top;\n",
       "    }\n",
       "\n",
       "    .dataframe thead th {\n",
       "        text-align: right;\n",
       "    }\n",
       "</style>\n",
       "<table border=\"1\" class=\"dataframe\">\n",
       "  <thead>\n",
       "    <tr style=\"text-align: right;\">\n",
       "      <th></th>\n",
       "      <th>File_Name</th>\n",
       "      <th>Product</th>\n",
       "    </tr>\n",
       "  </thead>\n",
       "  <tbody>\n",
       "    <tr>\n",
       "      <th>count</th>\n",
       "      <td>13452</td>\n",
       "      <td>13452</td>\n",
       "    </tr>\n",
       "    <tr>\n",
       "      <th>unique</th>\n",
       "      <td>13452</td>\n",
       "      <td>13</td>\n",
       "    </tr>\n",
       "    <tr>\n",
       "      <th>top</th>\n",
       "      <td>PROJ0x130f.html</td>\n",
       "      <td>AI</td>\n",
       "    </tr>\n",
       "    <tr>\n",
       "      <th>freq</th>\n",
       "      <td>1</td>\n",
       "      <td>1543</td>\n",
       "    </tr>\n",
       "  </tbody>\n",
       "</table>\n",
       "</div>"
      ],
      "text/plain": [
       "              File_Name Product\n",
       "count             13452   13452\n",
       "unique            13452      13\n",
       "top     PROJ0x130f.html      AI\n",
       "freq                  1    1543"
      ]
     },
     "execution_count": 6,
     "metadata": {},
     "output_type": "execute_result"
    }
   ],
   "source": [
    "train_df.describe()\n"
   ]
  },
  {
   "cell_type": "code",
   "execution_count": 7,
   "metadata": {},
   "outputs": [
    {
     "data": {
      "text/plain": [
       "array(['AI', 'Truck', 'Medical devices', 'antivirus-security', 'Hydro',\n",
       "       'Organicfood', 'charcoal', 'Kids toys', 'Fuel', 'Gaming hardware',\n",
       "       'Bike', 'allopathy', 'Solar'], dtype=object)"
      ]
     },
     "execution_count": 7,
     "metadata": {},
     "output_type": "execute_result"
    }
   ],
   "source": [
    "# Lets find unique PRoducts\n",
    "train_df['Product'].unique()\n"
   ]
  },
  {
   "cell_type": "code",
   "execution_count": 8,
   "metadata": {},
   "outputs": [
    {
     "data": {
      "text/plain": [
       "<AxesSubplot: xlabel='count', ylabel='Product'>"
      ]
     },
     "execution_count": 8,
     "metadata": {},
     "output_type": "execute_result"
    },
    {
     "data": {
      "image/png": "[encoded data removed]",
      "text/plain": [
       "<Figure size 640x480 with 1 Axes>"
      ]
     },
     "metadata": {},
     "output_type": "display_data"
    }
   ],
   "source": [
    "# Lets plot to see the distribution\n",
    "sns.countplot(y='Product', data=train_df, palette='rainbow')\n"
   ]
  },
  {
   "cell_type": "code",
   "execution_count": 9,
   "metadata": {},
   "outputs": [],
   "source": [
    "# Creting function for reading HTML file.\n",
    "def read_html_file(file_name):\n",
    "    base_path = \"/PersonalProjects/Predict_Product_Type_HackerEarth_Challenge_07_11_22/data/train/\"\n",
    "    #file_content = pd.read_html(base_path+file_name)\n",
    "    file_content = BeautifulSoup(open(base_path+file_name, 'r').read())\n",
    "    # extract_text_from_html():\n",
    "\n",
    "    return file_content\n"
   ]
  },
  {
   "cell_type": "code",
   "execution_count": 10,
   "metadata": {},
   "outputs": [
    {
     "data": {
      "text/plain": [
       "<!DOCTYPE html>\n",
       "<html>\n",
       "<head>\n",
       "<title> Company information Website </title>\n",
       "</head>\n",
       "<body>\n",
       "<h1> Company information </h1>\n",
       "<h2> General Details </h2>\n",
       "<p> Company is based out of: <b>Christmas Island</b> </p>\n",
       "<p> Company Sector: <b>Public_sector</b></p>\n",
       "<p> Number of employee:<b>nan</b> </p><p>\n",
       "</p><p> <b>Company background</b> </p>\n",
       "<p> More complex computations may involve many operations and data elements together. Computer software includes computer programs, libraries and related non-executable data, such as online documentation or digital media.</p>\n",
       "<h2> Finance Details </h2>\n",
       "<p> Company Revenue ( in Milions ): <b>None</b></p>\n",
       "<p> Net Valuation of the company: <b>23367.69780624008</b></p>\n",
       "<p> Current Share price (USD): <b>58348.5</b> </p>\n",
       "</body>\n",
       "</html>"
      ]
     },
     "execution_count": 10,
     "metadata": {},
     "output_type": "execute_result"
    }
   ],
   "source": [
    "read_html_file('PROJ0x130f.html')\n"
   ]
  },
  {
   "cell_type": "code",
   "execution_count": 44,
   "metadata": {},
   "outputs": [
    {
     "data": {
      "text/html": [
       "<div>\n",
       "<style scoped>\n",
       "    .dataframe tbody tr th:only-of-type {\n",
       "        vertical-align: middle;\n",
       "    }\n",
       "\n",
       "    .dataframe tbody tr th {\n",
       "        vertical-align: top;\n",
       "    }\n",
       "\n",
       "    .dataframe thead th {\n",
       "        text-align: right;\n",
       "    }\n",
       "</style>\n",
       "<table border=\"1\" class=\"dataframe\">\n",
       "  <thead>\n",
       "    <tr style=\"text-align: right;\">\n",
       "      <th></th>\n",
       "      <th>File_Name</th>\n",
       "      <th>Location</th>\n",
       "      <th>Sector</th>\n",
       "      <th>Number_of_Employees</th>\n",
       "      <th>Revenue</th>\n",
       "      <th>Valuation</th>\n",
       "      <th>Share_Price</th>\n",
       "      <th>Background</th>\n",
       "    </tr>\n",
       "  </thead>\n",
       "  <tbody>\n",
       "  </tbody>\n",
       "</table>\n",
       "</div>"
      ],
      "text/plain": [
       "Empty DataFrame\n",
       "Columns: [File_Name, Location, Sector, Number_of_Employees, Revenue, Valuation, Share_Price, Background]\n",
       "Index: []"
      ]
     },
     "execution_count": 44,
     "metadata": {},
     "output_type": "execute_result"
    }
   ],
   "source": [
    "# Create a DataFrame of the values from HTML page\n",
    "content_df = pd.DataFrame(columns=['File_Name', 'Location', 'Sector',\n",
    "                          'Number_of_Employees', 'Revenue', 'Valuation', 'Share_Price', 'Background'])\n",
    "content_df\n"
   ]
  },
  {
   "cell_type": "code",
   "execution_count": 41,
   "metadata": {},
   "outputs": [
    {
     "name": "stdout",
     "output_type": "stream",
     "text": [
      "<p> More complex computations may involve many operations and data elements together. Computer software includes computer programs, libraries and related non-executable data, such as online documentation or digital media.</p>\n"
     ]
    }
   ],
   "source": [
    "file_cont = read_html_file('PROJ0x130f.html')\n",
    "description = file_cont.find_all(\"p\")\n",
    "print(description[5])\n"
   ]
  },
  {
   "cell_type": "code",
   "execution_count": 36,
   "metadata": {},
   "outputs": [
    {
     "name": "stdout",
     "output_type": "stream",
     "text": [
      "[<b>Christmas Island</b>, <b>Public_sector</b>, <b>nan</b>, <b>Company background</b>, <b>None</b>, <b>23367.69780624008</b>, <b>58348.5</b>]\n"
     ]
    }
   ],
   "source": [
    "file_cont = read_html_file('PROJ0x130f.html')\n",
    "description = file_cont.find_all(\"b\")\n",
    "print(description)\n"
   ]
  },
  {
   "cell_type": "code",
   "execution_count": 45,
   "metadata": {},
   "outputs": [],
   "source": [
    "# Extract Text from HTML files\n",
    "def extract_text_from_html():\n",
    "    file_content = read_html_file('PROJ0x130f.html')\n",
    "    content_list = []\n",
    "\n",
    "    # Extract all the deatisl from HTML file\n",
    "    elements = file_content.find_all(\"b\")\n",
    "    for element in elements:\n",
    "        #print(element.text.strip())\n",
    "        content_list.append(element.text.strip())\n",
    "\n",
    "    # Extract Company background from HTML file\n",
    "    elemets = file_content.find_all(\"p\")\n",
    "    #print(elemets[5].text.strip())\n",
    "    content_list.append(elemets[5].text.strip())\n",
    "\n",
    "    # Remove the unwanted value like text Company background\n",
    "    del content_list[3]\n",
    "\n",
    "    return content_list\n"
   ]
  },
  {
   "cell_type": "code",
   "execution_count": 46,
   "metadata": {},
   "outputs": [
    {
     "data": {
      "text/plain": [
       "['Christmas Island',\n",
       " 'Public_sector',\n",
       " 'nan',\n",
       " 'None',\n",
       " '23367.69780624008',\n",
       " '58348.5',\n",
       " 'More complex computations may involve many operations and data elements together. Computer software includes computer programs, libraries and related non-executable data, such as online documentation or digital media.']"
      ]
     },
     "execution_count": 46,
     "metadata": {},
     "output_type": "execute_result"
    }
   ],
   "source": [
    "extract_text_from_html()\n"
   ]
  },
  {
   "cell_type": "code",
   "execution_count": null,
   "metadata": {},
   "outputs": [],
   "source": []
  }
 ],
 "metadata": {
  "kernelspec": {
   "display_name": "Python 3.10.4 ('product_type': venv)",
   "language": "python",
   "name": "python3"
  },
  "language_info": {
   "codemirror_mode": {
    "name": "ipython",
    "version": 3
   },
   "file_extension": ".py",
   "mimetype": "text/x-python",
   "name": "python",
   "nbconvert_exporter": "python",
   "pygments_lexer": "ipython3",
   "version": "3.10.4"
  },
  "orig_nbformat": 4,
  "vscode": {
   "interpreter": {
    "hash": "03a66c250e2ef1b48519fba3209004f26655bda7d5e50c7cf7948c003e769eb1"
   }
  }
 },
 "nbformat": 4,
 "nbformat_minor": 2
}
